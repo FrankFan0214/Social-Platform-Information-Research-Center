{
 "cells": [
  {
   "cell_type": "markdown",
   "metadata": {},
   "source": [
    "\t1.\tuer/roberta-base-finetuned-jd-binary-chinese：這是基於 RoBERTa 的中文情感分析模型，經過在二元情感數據集（如商品評論）上的微調，能夠區分正面與負面情感。\n",
    "\t2.\tnlptown/bert-base-multilingual-uncased-sentiment：此模型支援多語言情感分析，包含中文。它經過五分類情感標註，可區分從「非常負面」到「非常正面」的情感。\n",
    "\t3.\tuer/roberta-base-finetuned-dianping-binary-chinese：這款模型同樣是基於 RoBERTa，專門針對中文的點評數據集進行了微調，適合二分類情感分析"
   ]
  },
  {
   "cell_type": "code",
   "execution_count": null,
   "metadata": {},
   "outputs": [],
   "source": [
    "from transformers import pipeline\n",
    "\n",
    "# 選擇已經訓練好的情感分析模型\n",
    "model_name = \"uer/roberta-base-finetuned-jd-binary-chinese\"  # 使用適合的模型名稱\n",
    "sentiment_analyzer = pipeline(\"sentiment-analysis\", model=model_name)\n",
    "\n",
    "# 測試文本\n",
    "text = \"這部電影真是太棒了！我非常喜歡。\"\n",
    "\n",
    "# 進行情感分析\n",
    "result = sentiment_analyzer(text)[0]\n",
    "\n",
    "# 設定正負分數\n",
    "if result['label'] == 'positive':\n",
    "    score = result['score']  # 正面分數\n",
    "else:\n",
    "    score = -result['score']  # 負面分數\n",
    "\n",
    "# 輸出結果\n",
    "print(f\"情感分數: {score:.2f}\")"
   ]
  }
 ],
 "metadata": {
  "kernelspec": {
   "display_name": "Python 3",
   "language": "python",
   "name": "python3"
  },
  "language_info": {
   "name": "python",
   "version": "3.9.20"
  }
 },
 "nbformat": 4,
 "nbformat_minor": 2
}
