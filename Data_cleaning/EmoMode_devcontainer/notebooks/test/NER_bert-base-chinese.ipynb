{
 "cells": [
  {
   "cell_type": "code",
   "execution_count": null,
   "metadata": {},
   "outputs": [],
   "source": [
    "from transformers import BertTokenizerFast,AutoModelForCausalLM\n",
    "\n",
    "tokenizer = BertTokenizerFast.from_pretrained('bert-base-chinese')\n",
    "model = AutoModelForCausalLM.from_pretrained('ckiplab/gpt2-base-chinese').to(device)"
   ]
  },
  {
   "cell_type": "code",
   "execution_count": 5,
   "metadata": {},
   "outputs": [
    {
     "name": "stdout",
     "output_type": "stream",
     "text": [
      "實體: 台 灣 位 於 東 亞 ， 是 一 個 科 技 創 新 的 重 要 基 地 。, 類型: LABEL_1, 信心值: 0.654\n",
      "實體: 台, 類型: LABEL_0, 信心值: 0.559\n",
      "實體: 北 市 是 台 灣 的 首 都 。, 類型: LABEL_1, 信心值: 0.657\n"
     ]
    },
    {
     "name": "stderr",
     "output_type": "stream",
     "text": [
      "/usr/local/lib/python3.9/site-packages/transformers/pipelines/token_classification.py:135: UserWarning: `grouped_entities` is deprecated and will be removed in version v5.0.0, defaulted to `aggregation_strategy=\"simple\"` instead.\n",
      "  warnings.warn(\n"
     ]
    }
   ],
   "source": [
    "# 使用 pipeline 建立命名實體識別器\n",
    "nlp_ner = pipeline(\"ner\", model=model, tokenizer=tokenizer, grouped_entities=True)\n",
    "\n",
    "# 測試文本\n",
    "text = \"台灣位於東亞，是一個科技創新的重要基地。台北市是台灣的首都。\"\n",
    "\n",
    "# 執行命名實體識別\n",
    "ner_results = nlp_ner(text)\n",
    "\n",
    "# 輸出結果\n",
    "for entity in ner_results:\n",
    "    print(f\"實體: {entity['word']}, 類型: {entity['entity_group']}, 信心值: {entity['score']:.3f}\")"
   ]
  },
  {
   "cell_type": "code",
   "execution_count": 4,
   "metadata": {},
   "outputs": [
    {
     "name": "stdout",
     "output_type": "stream",
     "text": [
      "分詞結果： ['台', '灣', '位', '於', '東', '亞', '，', '是', '一', '個', '科', '技', '創', '新', '的', '重', '要', '基', '地', '。']\n"
     ]
    }
   ],
   "source": [
    "tokens = tokenizer.tokenize(text)\n",
    "print(\"分詞結果：\", tokens)"
   ]
  }
 ],
 "metadata": {
  "kernelspec": {
   "display_name": "Python 3",
   "language": "python",
   "name": "python3"
  },
  "language_info": {
   "codemirror_mode": {
    "name": "ipython",
    "version": 3
   },
   "file_extension": ".py",
   "mimetype": "text/x-python",
   "name": "python",
   "nbconvert_exporter": "python",
   "pygments_lexer": "ipython3",
   "version": "3.9.20"
  }
 },
 "nbformat": 4,
 "nbformat_minor": 2
}
