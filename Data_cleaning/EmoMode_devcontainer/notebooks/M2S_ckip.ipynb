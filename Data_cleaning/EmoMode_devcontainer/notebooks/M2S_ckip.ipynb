{
 "cells": [
  {
   "cell_type": "code",
   "execution_count": null,
   "metadata": {},
   "outputs": [],
   "source": [
    "from pymongo import MongoClient\n",
    "from ckip_transformers.nlp import CkipWordSegmenter, CkipPosTagger, CkipNerChunker"
   ]
  },
  {
   "cell_type": "code",
   "execution_count": null,
   "metadata": {},
   "outputs": [],
   "source": [
    "# 連接 MongoDB\n",
    "client = MongoClient('mongodb://localhost:27017')  # 替換為您的 MongoDB 連接 URI\n",
    "db = client[\"your_database_name\"]\n",
    "source_collection = db[\"your_source_collection\"]  # 原始資料 collection\n",
    "target_collection = db[\"your_target_collection\"]  # 儲存結果的 collection"
   ]
  },
  {
   "cell_type": "code",
   "execution_count": null,
   "metadata": {},
   "outputs": [],
   "source": [
    "\n",
    "# 初始化 CKIP Transformers\n",
    "ws_driver = CkipWordSegmenter(model=\"bert-base\")\n",
    "pos_driver = CkipPosTagger(model=\"bert-base\")\n",
    "ner_driver = CkipNerChunker(model=\"bert-base\")\n"
   ]
  },
  {
   "cell_type": "code",
   "execution_count": null,
   "metadata": {},
   "outputs": [],
   "source": [
    "# 從 MongoDB 取出特定數量的數據\n",
    "def fetch_data_from_mongodb(limit=10):\n",
    "    data = source_collection.find({}, {\"url\": 1, \"content\": 1}).limit(limit)\n",
    "    return [{\"url\": item[\"url\"], \"content\": item[\"content\"]} for item in data]"
   ]
  },
  {
   "cell_type": "code",
   "execution_count": null,
   "metadata": {},
   "outputs": [],
   "source": [
    "# 處理文本的函數\n",
    "def process_text(text_list):\n",
    "    ws = ws_driver(text_list)\n",
    "    pos = pos_driver(ws)\n",
    "    ner = ner_driver(text_list)\n",
    "    return [{\"ws\": ws[i], \"pos\": pos[i], \"ner\": ner[i]} for i in range(len(text_list))]"
   ]
  },
  {
   "cell_type": "code",
   "execution_count": null,
   "metadata": {},
   "outputs": [],
   "source": [
    "# 儲存處理結果到 MongoDB\n",
    "def save_to_mongodb(results):\n",
    "    for result in results:\n",
    "        # 組合新格式的數據\n",
    "        doc = {\n",
    "            \"url\": result[\"url\"],\n",
    "            \"content\": result[\"content\"],\n",
    "            \"ckip_results\": {\n",
    "                \"ws\": result[\"ckip\"][\"ws\"],\n",
    "                \"pos\": result[\"ckip\"][\"pos\"],\n",
    "                \"ner\": result[\"ckip\"][\"ner\"]\n",
    "            }\n",
    "        }\n",
    "        # 存回目標 collection\n",
    "        target_collection.update_one({\"url\": doc[\"url\"]}, {\"$set\": doc}, upsert=True)"
   ]
  },
  {
   "cell_type": "code",
   "execution_count": null,
   "metadata": {},
   "outputs": [],
   "source": [
    "\n",
    "# 主執行邏輯\n",
    "def main():\n",
    "    data = fetch_data_from_mongodb(limit=10)  # 您可以調整數量\n",
    "    if not data:\n",
    "        print(\"No data found.\")\n",
    "        return\n",
    "\n",
    "    # 將 content 文本提取出來\n",
    "    texts = [item[\"content\"] for item in data]\n",
    "    ckip_results = process_text(texts)\n",
    "\n",
    "    # 合併結果與 URL 並存回 MongoDB\n",
    "    results = []\n",
    "    for i, item in enumerate(data):\n",
    "        results.append({\n",
    "            \"url\": item[\"url\"],\n",
    "            \"content\": item[\"content\"],\n",
    "            \"ckip\": ckip_results[i]\n",
    "        })\n",
    "\n",
    "    save_to_mongodb(results)\n",
    "    print(\"Data processing and saving completed.\")\n",
    "# 執行主函數\n",
    "main()"
   ]
  },
  {
   "cell_type": "code",
   "execution_count": null,
   "metadata": {},
   "outputs": [],
   "source": [
    "# 主執行邏輯\n",
    "def trail():\n",
    "    data = fetch_data_from_mongodb(limit=10)  # 您可以調整數量\n",
    "    if not data:\n",
    "        print(\"No data found.\")\n",
    "        return\n",
    "\n",
    "    # 將 content 文本提取出來\n",
    "    texts = [item[\"content\"] for item in data]\n",
    "    ckip_results = process_text(texts)\n",
    "\n",
    "    # 合併 URL 與處理結果並輸出\n",
    "    for i, item in enumerate(data):\n",
    "        print(f\"URL: {item['url']}\")\n",
    "        print(f\"原文: {item['content']}\")\n",
    "        print(\"CKIP 處理結果:\")\n",
    "        print(f\"  分詞: {ckip_results[i]['ws']}\")\n",
    "        print(f\"  詞性標註: {ckip_results[i]['pos']}\")\n",
    "        print(f\"  命名實體: {ckip_results[i]['ner']}\")\n",
    "        print(\"-\" * 50)\n",
    "\n",
    "# 執行主函數\n",
    "trail()"
   ]
  },
  {
   "cell_type": "markdown",
   "metadata": {},
   "source": [
    "測試連結mongodb"
   ]
  },
  {
   "cell_type": "code",
   "execution_count": 4,
   "metadata": {},
   "outputs": [],
   "source": [
    "from pymongo import MongoClient\n",
    "from ckip_transformers.nlp import CkipWordSegmenter, CkipPosTagger, CkipNerChunker\n",
    "import re"
   ]
  },
  {
   "cell_type": "code",
   "execution_count": null,
   "metadata": {},
   "outputs": [],
   "source": [
    "# 連接 MongoDB\n",
    "client = MongoClient('mongodb://host.docker.internal:27017')  # 替換為您的 MongoDB 連接 URI\n",
    "db = client[\"kafka\"]\n",
    "collection = db[\"ptt\"]  # 您的 collection 名稱"
   ]
  },
  {
   "cell_type": "code",
   "execution_count": 6,
   "metadata": {},
   "outputs": [],
   "source": [
    "# 初始化 CKIP Transformers\n",
    "ws_driver = CkipWordSegmenter(model=\"bert-base\")\n",
    "pos_driver = CkipPosTagger(model=\"bert-base\")\n",
    "ner_driver = CkipNerChunker(model=\"bert-base\")"
   ]
  },
  {
   "cell_type": "code",
   "execution_count": 7,
   "metadata": {},
   "outputs": [
    {
     "ename": "ServerSelectionTimeoutError",
     "evalue": "localhost:27017: [Errno 111] Connection refused, Timeout: 30s, Topology Description: <TopologyDescription id: 6728a2509483bad9d4bab1d7, topology_type: Unknown, servers: [<ServerDescription ('localhost', 27017) server_type: Unknown, rtt: None, error=AutoReconnect('localhost:27017: [Errno 111] Connection refused')>]>",
     "output_type": "error",
     "traceback": [
      "\u001b[0;31m---------------------------------------------------------------------------\u001b[0m",
      "\u001b[0;31mServerSelectionTimeoutError\u001b[0m               Traceback (most recent call last)",
      "Cell \u001b[0;32mIn[7], line 56\u001b[0m\n\u001b[1;32m     53\u001b[0m         \u001b[38;5;28mprint\u001b[39m(\u001b[38;5;124m\"\u001b[39m\u001b[38;5;124m-\u001b[39m\u001b[38;5;124m\"\u001b[39m \u001b[38;5;241m*\u001b[39m \u001b[38;5;241m50\u001b[39m)\n\u001b[1;32m     55\u001b[0m \u001b[38;5;66;03m# 執行函數\u001b[39;00m\n\u001b[0;32m---> 56\u001b[0m \u001b[43mfetch_and_process_data\u001b[49m\u001b[43m(\u001b[49m\u001b[43m)\u001b[49m\n",
      "Cell \u001b[0;32mIn[7], line 13\u001b[0m, in \u001b[0;36mfetch_and_process_data\u001b[0;34m()\u001b[0m\n\u001b[1;32m     11\u001b[0m \u001b[38;5;28;01mdef\u001b[39;00m \u001b[38;5;21mfetch_and_process_data\u001b[39m():\n\u001b[1;32m     12\u001b[0m     data \u001b[38;5;241m=\u001b[39m collection\u001b[38;5;241m.\u001b[39mfind({}, {\u001b[38;5;124m\"\u001b[39m\u001b[38;5;124mkey\u001b[39m\u001b[38;5;124m\"\u001b[39m: \u001b[38;5;241m1\u001b[39m, \u001b[38;5;124m\"\u001b[39m\u001b[38;5;124mvalue\u001b[39m\u001b[38;5;124m\"\u001b[39m: \u001b[38;5;241m1\u001b[39m})\u001b[38;5;241m.\u001b[39mlimit(\u001b[38;5;241m1\u001b[39m)  \u001b[38;5;66;03m# 限制為一條數據以進行測試\u001b[39;00m\n\u001b[0;32m---> 13\u001b[0m     \u001b[38;5;28;01mfor\u001b[39;00m item \u001b[38;5;129;01min\u001b[39;00m data:\n\u001b[1;32m     14\u001b[0m         url \u001b[38;5;241m=\u001b[39m item[\u001b[38;5;124m\"\u001b[39m\u001b[38;5;124mkey\u001b[39m\u001b[38;5;124m\"\u001b[39m]\n\u001b[1;32m     15\u001b[0m         value \u001b[38;5;241m=\u001b[39m item[\u001b[38;5;124m\"\u001b[39m\u001b[38;5;124mvalue\u001b[39m\u001b[38;5;124m\"\u001b[39m]\n",
      "File \u001b[0;32m/usr/local/lib/python3.9/site-packages/pymongo/cursor.py:1248\u001b[0m, in \u001b[0;36mCursor.next\u001b[0;34m(self)\u001b[0m\n\u001b[1;32m   1246\u001b[0m \u001b[38;5;28;01mif\u001b[39;00m \u001b[38;5;28mself\u001b[39m\u001b[38;5;241m.\u001b[39m__empty:\n\u001b[1;32m   1247\u001b[0m     \u001b[38;5;28;01mraise\u001b[39;00m \u001b[38;5;167;01mStopIteration\u001b[39;00m\n\u001b[0;32m-> 1248\u001b[0m \u001b[38;5;28;01mif\u001b[39;00m \u001b[38;5;28mlen\u001b[39m(\u001b[38;5;28mself\u001b[39m\u001b[38;5;241m.\u001b[39m__data) \u001b[38;5;129;01mor\u001b[39;00m \u001b[38;5;28;43mself\u001b[39;49m\u001b[38;5;241;43m.\u001b[39;49m\u001b[43m_refresh\u001b[49m\u001b[43m(\u001b[49m\u001b[43m)\u001b[49m:\n\u001b[1;32m   1249\u001b[0m     \u001b[38;5;28;01mreturn\u001b[39;00m \u001b[38;5;28mself\u001b[39m\u001b[38;5;241m.\u001b[39m__data\u001b[38;5;241m.\u001b[39mpopleft()\n\u001b[1;32m   1250\u001b[0m \u001b[38;5;28;01melse\u001b[39;00m:\n",
      "File \u001b[0;32m/usr/local/lib/python3.9/site-packages/pymongo/cursor.py:1139\u001b[0m, in \u001b[0;36mCursor._refresh\u001b[0;34m(self)\u001b[0m\n\u001b[1;32m   1136\u001b[0m     \u001b[38;5;28;01mreturn\u001b[39;00m \u001b[38;5;28mlen\u001b[39m(\u001b[38;5;28mself\u001b[39m\u001b[38;5;241m.\u001b[39m__data)\n\u001b[1;32m   1138\u001b[0m \u001b[38;5;28;01mif\u001b[39;00m \u001b[38;5;129;01mnot\u001b[39;00m \u001b[38;5;28mself\u001b[39m\u001b[38;5;241m.\u001b[39m__session:\n\u001b[0;32m-> 1139\u001b[0m     \u001b[38;5;28mself\u001b[39m\u001b[38;5;241m.\u001b[39m__session \u001b[38;5;241m=\u001b[39m \u001b[38;5;28;43mself\u001b[39;49m\u001b[38;5;241;43m.\u001b[39;49m\u001b[43m__collection\u001b[49m\u001b[38;5;241;43m.\u001b[39;49m\u001b[43mdatabase\u001b[49m\u001b[38;5;241;43m.\u001b[39;49m\u001b[43mclient\u001b[49m\u001b[38;5;241;43m.\u001b[39;49m\u001b[43m_ensure_session\u001b[49m\u001b[43m(\u001b[49m\u001b[43m)\u001b[49m\n\u001b[1;32m   1141\u001b[0m \u001b[38;5;28;01mif\u001b[39;00m \u001b[38;5;28mself\u001b[39m\u001b[38;5;241m.\u001b[39m__id \u001b[38;5;129;01mis\u001b[39;00m \u001b[38;5;28;01mNone\u001b[39;00m:  \u001b[38;5;66;03m# Query\u001b[39;00m\n\u001b[1;32m   1142\u001b[0m     \u001b[38;5;28;01mif\u001b[39;00m (\u001b[38;5;28mself\u001b[39m\u001b[38;5;241m.\u001b[39m__min \u001b[38;5;129;01mor\u001b[39;00m \u001b[38;5;28mself\u001b[39m\u001b[38;5;241m.\u001b[39m__max) \u001b[38;5;129;01mand\u001b[39;00m \u001b[38;5;129;01mnot\u001b[39;00m \u001b[38;5;28mself\u001b[39m\u001b[38;5;241m.\u001b[39m__hint:\n",
      "File \u001b[0;32m/usr/local/lib/python3.9/site-packages/pymongo/mongo_client.py:1740\u001b[0m, in \u001b[0;36mMongoClient._ensure_session\u001b[0;34m(self, session)\u001b[0m\n\u001b[1;32m   1735\u001b[0m     \u001b[38;5;28;01mreturn\u001b[39;00m session\n\u001b[1;32m   1737\u001b[0m \u001b[38;5;28;01mtry\u001b[39;00m:\n\u001b[1;32m   1738\u001b[0m     \u001b[38;5;66;03m# Don't make implicit sessions causally consistent. Applications\u001b[39;00m\n\u001b[1;32m   1739\u001b[0m     \u001b[38;5;66;03m# should always opt-in.\u001b[39;00m\n\u001b[0;32m-> 1740\u001b[0m     \u001b[38;5;28;01mreturn\u001b[39;00m \u001b[38;5;28;43mself\u001b[39;49m\u001b[38;5;241;43m.\u001b[39;49m\u001b[43m__start_session\u001b[49m\u001b[43m(\u001b[49m\u001b[38;5;28;43;01mTrue\u001b[39;49;00m\u001b[43m,\u001b[49m\u001b[43m \u001b[49m\u001b[43mcausal_consistency\u001b[49m\u001b[38;5;241;43m=\u001b[39;49m\u001b[38;5;28;43;01mFalse\u001b[39;49;00m\u001b[43m)\u001b[49m\n\u001b[1;32m   1741\u001b[0m \u001b[38;5;28;01mexcept\u001b[39;00m (ConfigurationError, InvalidOperation):\n\u001b[1;32m   1742\u001b[0m     \u001b[38;5;66;03m# Sessions not supported.\u001b[39;00m\n\u001b[1;32m   1743\u001b[0m     \u001b[38;5;28;01mreturn\u001b[39;00m \u001b[38;5;28;01mNone\u001b[39;00m\n",
      "File \u001b[0;32m/usr/local/lib/python3.9/site-packages/pymongo/mongo_client.py:1685\u001b[0m, in \u001b[0;36mMongoClient.__start_session\u001b[0;34m(self, implicit, **kwargs)\u001b[0m\n\u001b[1;32m   1682\u001b[0m \u001b[38;5;28;01mdef\u001b[39;00m \u001b[38;5;21m__start_session\u001b[39m(\u001b[38;5;28mself\u001b[39m, implicit, \u001b[38;5;241m*\u001b[39m\u001b[38;5;241m*\u001b[39mkwargs):\n\u001b[1;32m   1683\u001b[0m     \u001b[38;5;66;03m# Raises ConfigurationError if sessions are not supported.\u001b[39;00m\n\u001b[1;32m   1684\u001b[0m     \u001b[38;5;28;01mif\u001b[39;00m implicit:\n\u001b[0;32m-> 1685\u001b[0m         \u001b[38;5;28;43mself\u001b[39;49m\u001b[38;5;241;43m.\u001b[39;49m\u001b[43m_topology\u001b[49m\u001b[38;5;241;43m.\u001b[39;49m\u001b[43m_check_implicit_session_support\u001b[49m\u001b[43m(\u001b[49m\u001b[43m)\u001b[49m\n\u001b[1;32m   1686\u001b[0m         server_session \u001b[38;5;241m=\u001b[39m _EmptyServerSession()\n\u001b[1;32m   1687\u001b[0m     \u001b[38;5;28;01melse\u001b[39;00m:\n",
      "File \u001b[0;32m/usr/local/lib/python3.9/site-packages/pymongo/topology.py:538\u001b[0m, in \u001b[0;36mTopology._check_implicit_session_support\u001b[0;34m(self)\u001b[0m\n\u001b[1;32m    536\u001b[0m \u001b[38;5;28;01mdef\u001b[39;00m \u001b[38;5;21m_check_implicit_session_support\u001b[39m(\u001b[38;5;28mself\u001b[39m):\n\u001b[1;32m    537\u001b[0m     \u001b[38;5;28;01mwith\u001b[39;00m \u001b[38;5;28mself\u001b[39m\u001b[38;5;241m.\u001b[39m_lock:\n\u001b[0;32m--> 538\u001b[0m         \u001b[38;5;28;43mself\u001b[39;49m\u001b[38;5;241;43m.\u001b[39;49m\u001b[43m_check_session_support\u001b[49m\u001b[43m(\u001b[49m\u001b[43m)\u001b[49m\n",
      "File \u001b[0;32m/usr/local/lib/python3.9/site-packages/pymongo/topology.py:554\u001b[0m, in \u001b[0;36mTopology._check_session_support\u001b[0;34m(self)\u001b[0m\n\u001b[1;32m    550\u001b[0m         \u001b[38;5;28mself\u001b[39m\u001b[38;5;241m.\u001b[39m_select_servers_loop(\n\u001b[1;32m    551\u001b[0m             any_server_selector, \u001b[38;5;28mself\u001b[39m\u001b[38;5;241m.\u001b[39mget_server_selection_timeout(), \u001b[38;5;28;01mNone\u001b[39;00m\n\u001b[1;32m    552\u001b[0m         )\n\u001b[1;32m    553\u001b[0m \u001b[38;5;28;01melif\u001b[39;00m \u001b[38;5;129;01mnot\u001b[39;00m \u001b[38;5;28mself\u001b[39m\u001b[38;5;241m.\u001b[39m_description\u001b[38;5;241m.\u001b[39mreadable_servers:\n\u001b[0;32m--> 554\u001b[0m     \u001b[38;5;28;43mself\u001b[39;49m\u001b[38;5;241;43m.\u001b[39;49m\u001b[43m_select_servers_loop\u001b[49m\u001b[43m(\u001b[49m\n\u001b[1;32m    555\u001b[0m \u001b[43m        \u001b[49m\u001b[43mreadable_server_selector\u001b[49m\u001b[43m,\u001b[49m\u001b[43m \u001b[49m\u001b[38;5;28;43mself\u001b[39;49m\u001b[38;5;241;43m.\u001b[39;49m\u001b[43mget_server_selection_timeout\u001b[49m\u001b[43m(\u001b[49m\u001b[43m)\u001b[49m\u001b[43m,\u001b[49m\u001b[43m \u001b[49m\u001b[38;5;28;43;01mNone\u001b[39;49;00m\n\u001b[1;32m    556\u001b[0m \u001b[43m    \u001b[49m\u001b[43m)\u001b[49m\n\u001b[1;32m    558\u001b[0m session_timeout \u001b[38;5;241m=\u001b[39m \u001b[38;5;28mself\u001b[39m\u001b[38;5;241m.\u001b[39m_description\u001b[38;5;241m.\u001b[39mlogical_session_timeout_minutes\n\u001b[1;32m    559\u001b[0m \u001b[38;5;28;01mif\u001b[39;00m session_timeout \u001b[38;5;129;01mis\u001b[39;00m \u001b[38;5;28;01mNone\u001b[39;00m:\n",
      "File \u001b[0;32m/usr/local/lib/python3.9/site-packages/pymongo/topology.py:238\u001b[0m, in \u001b[0;36mTopology._select_servers_loop\u001b[0;34m(self, selector, timeout, address)\u001b[0m\n\u001b[1;32m    235\u001b[0m \u001b[38;5;28;01mwhile\u001b[39;00m \u001b[38;5;129;01mnot\u001b[39;00m server_descriptions:\n\u001b[1;32m    236\u001b[0m     \u001b[38;5;66;03m# No suitable servers.\u001b[39;00m\n\u001b[1;32m    237\u001b[0m     \u001b[38;5;28;01mif\u001b[39;00m timeout \u001b[38;5;241m==\u001b[39m \u001b[38;5;241m0\u001b[39m \u001b[38;5;129;01mor\u001b[39;00m now \u001b[38;5;241m>\u001b[39m end_time:\n\u001b[0;32m--> 238\u001b[0m         \u001b[38;5;28;01mraise\u001b[39;00m ServerSelectionTimeoutError(\n\u001b[1;32m    239\u001b[0m             \u001b[38;5;124m\"\u001b[39m\u001b[38;5;132;01m%s\u001b[39;00m\u001b[38;5;124m, Timeout: \u001b[39m\u001b[38;5;132;01m%s\u001b[39;00m\u001b[38;5;124ms, Topology Description: \u001b[39m\u001b[38;5;132;01m%r\u001b[39;00m\u001b[38;5;124m\"\u001b[39m\n\u001b[1;32m    240\u001b[0m             \u001b[38;5;241m%\u001b[39m (\u001b[38;5;28mself\u001b[39m\u001b[38;5;241m.\u001b[39m_error_message(selector), timeout, \u001b[38;5;28mself\u001b[39m\u001b[38;5;241m.\u001b[39mdescription)\n\u001b[1;32m    241\u001b[0m         )\n\u001b[1;32m    243\u001b[0m     \u001b[38;5;28mself\u001b[39m\u001b[38;5;241m.\u001b[39m_ensure_opened()\n\u001b[1;32m    244\u001b[0m     \u001b[38;5;28mself\u001b[39m\u001b[38;5;241m.\u001b[39m_request_check_all()\n",
      "\u001b[0;31mServerSelectionTimeoutError\u001b[0m: localhost:27017: [Errno 111] Connection refused, Timeout: 30s, Topology Description: <TopologyDescription id: 6728a2509483bad9d4bab1d7, topology_type: Unknown, servers: [<ServerDescription ('localhost', 27017) server_type: Unknown, rtt: None, error=AutoReconnect('localhost:27017: [Errno 111] Connection refused')>]>"
     ]
    }
   ],
   "source": [
    "# 文本預處理函數\n",
    "def preprocess_text(text):\n",
    "    # 移除空行和多餘的標記\n",
    "    text = re.sub(r\"\\n+\", \"\\n\", text)  # 替換多個換行為單個換行\n",
    "    text = re.sub(r\"-----\\nSent from.*\", \"\", text)  # 移除結尾的 \"Sent from\" 部分\n",
    "    text = re.sub(r\"--+\", \"\", text)  # 移除 \"--\" 標記\n",
    "    text = text.strip()  # 移除首尾空白\n",
    "    return text\n",
    "\n",
    "# 從 MongoDB 取出並處理數據\n",
    "def fetch_and_process_data():\n",
    "    data = collection.find({}, {\"key\": 1, \"value\": 1}).limit(1)  # 限制為一條數據以進行測試\n",
    "    for item in data:\n",
    "        url = item[\"key\"]\n",
    "        value = item[\"value\"]\n",
    "\n",
    "        # 提取和預處理 \"內容\"\n",
    "        raw_content = value.get(\"內容\", \"\")\n",
    "        preprocessed_content = preprocess_text(raw_content)\n",
    "\n",
    "        # 執行 CKIP 斷詞、詞性標註和命名實體識別\n",
    "        ws_result = ws_driver([preprocessed_content])\n",
    "        pos_result = pos_driver(ws_result)\n",
    "        ner_result = ner_driver([preprocessed_content])\n",
    "\n",
    "        # 組合處理結果\n",
    "        processed_value = {\n",
    "            \"發佈日期\": value.get(\"發佈日期\"),\n",
    "            \"標題\": value.get(\"標題\"),\n",
    "            \"作者\": value.get(\"作者\"),\n",
    "            \"內容\": {\n",
    "                \"原文\": raw_content,\n",
    "                \"預處理後\": preprocessed_content,\n",
    "                \"分詞\": ws_result[0],\n",
    "                \"詞性標註\": pos_result[0],\n",
    "                \"命名實體\": ner_result[0]\n",
    "            },\n",
    "            \"推\": value.get(\"推\"),\n",
    "            \"噓\": value.get(\"噓\"),\n",
    "            \"箭頭\": value.get(\"箭頭\"),\n",
    "            \"連結\": value.get(\"連結\"),\n",
    "            \"留言\": value.get(\"留言\")\n",
    "        }\n",
    "\n",
    "        # 輸出結果\n",
    "        print(f\"URL: {url}\")\n",
    "        print(\"處理後的內容:\")\n",
    "        print(f\"  原文: {processed_value['內容']['原文']}\")\n",
    "        print(f\"  預處理後: {processed_value['內容']['預處理後']}\")\n",
    "        print(f\"  分詞: {processed_value['內容']['分詞']}\")\n",
    "        print(f\"  詞性標註: {processed_value['內容']['詞性標註']}\")\n",
    "        print(f\"  命名實體: {processed_value['內容']['命名實體']}\")\n",
    "        print(\"-\" * 50)\n",
    "\n",
    "# 執行函數\n",
    "fetch_and_process_data()"
   ]
  }
 ],
 "metadata": {
  "kernelspec": {
   "display_name": "Python 3",
   "language": "python",
   "name": "python3"
  },
  "language_info": {
   "codemirror_mode": {
    "name": "ipython",
    "version": 3
   },
   "file_extension": ".py",
   "mimetype": "text/x-python",
   "name": "python",
   "nbconvert_exporter": "python",
   "pygments_lexer": "ipython3",
   "version": "3.9.20"
  }
 },
 "nbformat": 4,
 "nbformat_minor": 2
}
