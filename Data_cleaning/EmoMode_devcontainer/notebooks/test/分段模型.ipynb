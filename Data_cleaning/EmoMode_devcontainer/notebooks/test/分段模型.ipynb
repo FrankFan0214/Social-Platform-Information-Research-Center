{
 "cells": [
  {
   "cell_type": "code",
   "execution_count": null,
   "metadata": {},
   "outputs": [],
   "source": [
    "from transformers import BertTokenizer, BertForSequenceClassification, pipeline\n",
    "import numpy as np\n",
    "\n",
    "# 初始化模型和分詞器\n",
    "model_name = \"bert-base-chinese\"\n",
    "tokenizer = BertTokenizer.from_pretrained(model_name)\n",
    "model = BertForSequenceClassification.from_pretrained(model_name, num_labels=2)\n",
    "nlp = pipeline(\"sentiment-analysis\", model=model, tokenizer=tokenizer)\n",
    "\n",
    "# 範例文章\n",
    "text = \"第一段落：這部電影真的很好看！\\n第二段落：不過有些部分還是有點無聊。\"\n",
    "\n",
    "# 將文章切分為段落\n",
    "paragraphs = text.split(\"\\n\")\n",
    "\n",
    "# 儲存每個段落的情感分數\n",
    "scores = []\n",
    "\n",
    "# 對每個段落進行情感分析\n",
    "for paragraph in paragraphs:\n",
    "    result = nlp(paragraph)[0]\n",
    "    score = result['score'] if result['label'] == 'LABEL_1' else -result['score']\n",
    "    scores.append(score)\n",
    "\n",
    "# 加總或平均所有段落的情感分數\n",
    "average_score = np.mean(scores)\n",
    "\n",
    "# 判斷最終情感\n",
    "if average_score > 0:\n",
    "    print(\"整體情感：正面\")\n",
    "else:\n",
    "    print(\"整體情感：負面\")"
   ]
  }
 ],
 "metadata": {
  "kernelspec": {
   "display_name": "Python 3",
   "language": "python",
   "name": "python3"
  },
  "language_info": {
   "name": "python",
   "version": "3.9.20"
  }
 },
 "nbformat": 4,
 "nbformat_minor": 2
}
