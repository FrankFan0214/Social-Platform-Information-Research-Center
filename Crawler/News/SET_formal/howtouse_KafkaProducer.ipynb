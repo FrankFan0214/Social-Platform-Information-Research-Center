{
 "cells": [
  {
   "cell_type": "code",
   "execution_count": null,
   "metadata": {},
   "outputs": [],
   "source": [
    "# main.py\n",
    "\n",
    "import json\n",
    "from kafka_producer import KafkaProducer  # 匯入 KafkaProducer 類別\n",
    "\n",
    "# 初始化 KafkaProducer 實例\n",
    "kafka_producer = KafkaProducer(\n",
    "    servers='104.155.214.8:9092', \n",
    "    topic='dcard-topic'\n",
    ")\n",
    "\n",
    "# 要發送的資料\n",
    "data1 = {\"name\": \"Alice\", \"age\": 30, \"city\": \"New York\"}\n",
    "url = \"unique_key_for_message\"\n",
    "\n",
    "# 將資料轉換為 JSON 字串\n",
    "json_data = json.dumps(data1, ensure_ascii=False).encode('utf-8')\n",
    "\n",
    "# 發送訊息\n",
    "kafka_producer.send_message(json_data, key=url)\n",
    "\n",
    "# 確保所有訊息已送出\n",
    "kafka_producer.flush()"
   ]
  }
 ],
 "metadata": {
  "kernelspec": {
   "display_name": "Python 3",
   "language": "python",
   "name": "python3"
  },
  "language_info": {
   "name": "python",
   "version": "3.12.0"
  }
 },
 "nbformat": 4,
 "nbformat_minor": 2
}
