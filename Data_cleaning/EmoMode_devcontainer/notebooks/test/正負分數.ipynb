{
 "cells": [
  {
   "cell_type": "code",
   "execution_count": null,
   "metadata": {},
   "outputs": [],
   "source": [
    "from transformers import BertTokenizer, BertForSequenceClassification, pipeline\n",
    "\n",
    "# 初始化模型和分詞器\n",
    "model_name = \"bert-base-chinese\"\n",
    "tokenizer = BertTokenizer.from_pretrained(model_name)\n",
    "model = BertForSequenceClassification.from_pretrained(model_name, num_labels=2)\n",
    "nlp = pipeline(\"sentiment-analysis\", model=model, tokenizer=tokenizer)\n",
    "\n",
    "# 測試文本\n",
    "text = \"這部電影非常精彩，劇情緊湊，表演到位。\"\n",
    "\n",
    "# 執行情感分析\n",
    "result = nlp(text)[0]\n",
    "\n",
    "# 設定正負分數\n",
    "if result['label'] == 'LABEL_1':  # 假設 LABEL_1 表示正面情感\n",
    "    score = result['score']  # 正面分數\n",
    "else:  # 假設 LABEL_0 表示負面情感\n",
    "    score = -result['score']  # 負面分數\n",
    "\n",
    "# 輸出結果\n",
    "print(f\"情感分數: {score:.2f}\")"
   ]
  }
 ],
 "metadata": {
  "kernelspec": {
   "display_name": "Python 3",
   "language": "python",
   "name": "python3"
  },
  "language_info": {
   "name": "python",
   "version": "3.9.20"
  }
 },
 "nbformat": 4,
 "nbformat_minor": 2
}
